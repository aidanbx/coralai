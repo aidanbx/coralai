{
 "cells": [
  {
   "cell_type": "code",
   "execution_count": 1,
   "metadata": {},
   "outputs": [
    {
     "name": "stdout",
     "output_type": "stream",
     "text": [
      "[Taichi] version 1.7.0, llvm 15.0.7, commit 6b563a2a, osx, python 3.10.8\n"
     ]
    },
    {
     "name": "stderr",
     "output_type": "stream",
     "text": [
      "[I 11/14/23 20:07:16.326 12378070] [shell.py:_shell_pop_print@23] Graphical python shell detected, using wrapped sys.stdout\n"
     ]
    },
    {
     "name": "stdout",
     "output_type": "stream",
     "text": [
      "[Taichi] Starting on arch=metal\n"
     ]
    }
   ],
   "source": [
    "import importlib\n",
    "import numpy as np\n",
    "import taichi as ti\n",
    "import torch\n",
    "from src_ti.eincasm import eincasm\n",
    "from src_ti.PixelVis import PixelVis\n",
    "from src_ti.Vis import Vis\n",
    "import src_ti.physics as physics\n",
    "\n",
    "ti.init(arch=ti.gpu)"
   ]
  },
  {
   "cell_type": "code",
   "execution_count": 2,
   "metadata": {},
   "outputs": [
    {
     "name": "stderr",
     "output_type": "stream",
     "text": [
      "/Users/aidanbx/CS/EINCASM/src_ti/eincasm.py:36: UserWarning: \u001b[93mWorld: Casting portmap of dtype: torch.int8 to world dtype: torch.float32\u001b[0m\n",
      "  self.world.malloc()\n"
     ]
    }
   ],
   "source": [
    "ein = eincasm(shape=(400,400), torch_device=torch.device('mps'))\n",
    "chids = [('com', 'r'), ('com', 'g'), ('com', 'b')]"
   ]
  },
  {
   "cell_type": "code",
   "execution_count": 19,
   "metadata": {},
   "outputs": [
    {
     "name": "stderr",
     "output_type": "stream",
     "text": [
      "[W 11/14/23 20:12:11.017 12378070] \n",
      "Assign may lose precision: unknown <- i32\n",
      "[W 11/14/23 20:12:11.021 12378070] \n",
      "Assign may lose precision: unknown <- i32\n",
      "[W 11/14/23 20:12:11.023 12378070] \n",
      "Assign may lose precision: unknown <- i32\n"
     ]
    }
   ],
   "source": [
    "inds = ein.world.get_inds_tivec(chids)\n",
    "itype = ti.types.vector(inds.n, dtype=ti.i32)\n",
    "istruct = ti.types.struct(lims=itype)\n",
    "ifield = istruct.field(shape=())\n",
    "ifield[None]['lims'] = inds"
   ]
  },
  {
   "cell_type": "code",
   "execution_count": 28,
   "metadata": {},
   "outputs": [
    {
     "name": "stderr",
     "output_type": "stream",
     "text": [
      "[W 11/14/23 22:04:37.802 12378070] \n",
      "Assign may lose precision: unknown <- i32\n",
      "[W 11/14/23 22:04:37.814 12378070] \n",
      "Assign may lose precision: unknown <- f32\n"
     ]
    },
    {
     "data": {
      "text/plain": [
       "21.0"
      ]
     },
     "execution_count": 28,
     "metadata": {},
     "output_type": "execute_result"
    }
   ],
   "source": [
    "@ti.dataclass\n",
    "class tstc:\n",
    "    a: ti.i32\n",
    "    b: ti.f32\n",
    "    def init(self):\n",
    "        self.a = 10\n",
    "        self.b = 21\n",
    "\n",
    "tfield = tstc.field(shape=())\n",
    "tfield[None] = tstc()\n",
    "tfield[None].init()\n",
    "tfield[None].b"
   ]
  },
  {
   "cell_type": "code",
   "execution_count": 21,
   "metadata": {},
   "outputs": [
    {
     "ename": "ValueError",
     "evalue": "Invalid data type <class 'taichi.lang.matrix.Matrix'>",
     "output_type": "error",
     "traceback": [
      "\u001b[0;31m---------------------------------------------------------------------------\u001b[0m",
      "\u001b[0;31mValueError\u001b[0m                                Traceback (most recent call last)",
      "\u001b[1;32m/Users/aidanbx/CS/EINCASM/play.ipynb Cell 4\u001b[0m line \u001b[0;36m3\n\u001b[1;32m      <a href='vscode-notebook-cell:/Users/aidanbx/CS/EINCASM/play.ipynb#X22sZmlsZQ%3D%3D?line=0'>1</a>\u001b[0m lims \u001b[39m=\u001b[39m ein\u001b[39m.\u001b[39mworld\u001b[39m.\u001b[39mget_lims_timat(chids)\n\u001b[1;32m      <a href='vscode-notebook-cell:/Users/aidanbx/CS/EINCASM/play.ipynb#X22sZmlsZQ%3D%3D?line=1'>2</a>\u001b[0m ltype \u001b[39m=\u001b[39m \u001b[39mtype\u001b[39m(lims)\n\u001b[0;32m----> <a href='vscode-notebook-cell:/Users/aidanbx/CS/EINCASM/play.ipynb#X22sZmlsZQ%3D%3D?line=2'>3</a>\u001b[0m lstruct \u001b[39m=\u001b[39m ti\u001b[39m.\u001b[39;49mtypes\u001b[39m.\u001b[39;49mstruct(lims\u001b[39m=\u001b[39;49mltype)\n\u001b[1;32m      <a href='vscode-notebook-cell:/Users/aidanbx/CS/EINCASM/play.ipynb#X22sZmlsZQ%3D%3D?line=3'>4</a>\u001b[0m lfield \u001b[39m=\u001b[39m lstruct\u001b[39m.\u001b[39mfield(shape\u001b[39m=\u001b[39m())\n\u001b[1;32m      <a href='vscode-notebook-cell:/Users/aidanbx/CS/EINCASM/play.ipynb#X22sZmlsZQ%3D%3D?line=4'>5</a>\u001b[0m lfield[\u001b[39mNone\u001b[39;00m][\u001b[39m'\u001b[39m\u001b[39mlims\u001b[39m\u001b[39m'\u001b[39m] \u001b[39m=\u001b[39m lims\n",
      "File \u001b[0;32m~/miniconda/envs/cv/lib/python3.10/site-packages/taichi/types/compound_types.py:66\u001b[0m, in \u001b[0;36mstruct\u001b[0;34m(**kwargs)\u001b[0m\n\u001b[1;32m     50\u001b[0m \u001b[39mdef\u001b[39;00m \u001b[39mstruct\u001b[39m(\u001b[39m*\u001b[39m\u001b[39m*\u001b[39mkwargs):\n\u001b[1;32m     51\u001b[0m \u001b[39m    \u001b[39m\u001b[39m\"\"\"Creates a struct type with given members.\u001b[39;00m\n\u001b[1;32m     52\u001b[0m \n\u001b[1;32m     53\u001b[0m \u001b[39m    Args:\u001b[39;00m\n\u001b[0;32m   (...)\u001b[0m\n\u001b[1;32m     64\u001b[0m \u001b[39m        >>> s = sphere(center=vec3([0., 0., 0.]), radius=1.0)\u001b[39;00m\n\u001b[1;32m     65\u001b[0m \u001b[39m    \"\"\"\u001b[39;00m\n\u001b[0;32m---> 66\u001b[0m     \u001b[39mreturn\u001b[39;00m taichi\u001b[39m.\u001b[39;49mlang\u001b[39m.\u001b[39;49mstruct\u001b[39m.\u001b[39;49mStructType(\u001b[39m*\u001b[39;49m\u001b[39m*\u001b[39;49mkwargs)\n",
      "File \u001b[0;32m~/miniconda/envs/cv/lib/python3.10/site-packages/taichi/lang/struct.py:614\u001b[0m, in \u001b[0;36mStructType.__init__\u001b[0;34m(self, **kwargs)\u001b[0m\n\u001b[1;32m    612\u001b[0m     elements\u001b[39m.\u001b[39mappend([dtype\u001b[39m.\u001b[39mtensor_type, k])\n\u001b[1;32m    613\u001b[0m \u001b[39melse\u001b[39;00m:\n\u001b[0;32m--> 614\u001b[0m     dtype \u001b[39m=\u001b[39m cook_dtype(dtype)\n\u001b[1;32m    615\u001b[0m     \u001b[39mself\u001b[39m\u001b[39m.\u001b[39mmembers[k] \u001b[39m=\u001b[39m dtype\n\u001b[1;32m    616\u001b[0m     elements\u001b[39m.\u001b[39mappend([dtype, k])\n",
      "File \u001b[0;32m~/miniconda/envs/cv/lib/python3.10/site-packages/taichi/lang/util.py:310\u001b[0m, in \u001b[0;36mcook_dtype\u001b[0;34m(dtype)\u001b[0m\n\u001b[1;32m    308\u001b[0m \u001b[39mif\u001b[39;00m dtype \u001b[39mis\u001b[39;00m \u001b[39mbool\u001b[39m:\n\u001b[1;32m    309\u001b[0m     \u001b[39mreturn\u001b[39;00m u1\n\u001b[0;32m--> 310\u001b[0m \u001b[39mraise\u001b[39;00m \u001b[39mValueError\u001b[39;00m(\u001b[39mf\u001b[39m\u001b[39m\"\u001b[39m\u001b[39mInvalid data type \u001b[39m\u001b[39m{\u001b[39;00mdtype\u001b[39m}\u001b[39;00m\u001b[39m\"\u001b[39m)\n",
      "\u001b[0;31mValueError\u001b[0m: Invalid data type <class 'taichi.lang.matrix.Matrix'>"
     ]
    }
   ],
   "source": [
    "lims = ein.world.get_lims_timat(chids)\n",
    "ltype = ti.types.matrix(lims.n, lims.m, dtype=ti.f32)\n",
    "lstruct = ti.types.struct(lims=ltype)\n",
    "lfield = lstruct.field(shape=())\n",
    "lfield[None]['lims'] = lims"
   ]
  },
  {
   "cell_type": "code",
   "execution_count": 12,
   "metadata": {},
   "outputs": [
    {
     "data": {
      "text/plain": [
       "<taichi.lang.struct.StructType at 0x28a8bb160>"
      ]
     },
     "execution_count": 12,
     "metadata": {},
     "output_type": "execute_result"
    }
   ],
   "source": [
    "ti.types.struct(\n",
    "    flow=ti.types.vector(n=5, dtype=ti.f32),\n",
    "    port=ti.f32,\n",
    "    mine=ti.f32,)"
   ]
  }
 ],
 "metadata": {
  "kernelspec": {
   "display_name": "cv",
   "language": "python",
   "name": "python3"
  },
  "language_info": {
   "codemirror_mode": {
    "name": "ipython",
    "version": 3
   },
   "file_extension": ".py",
   "mimetype": "text/x-python",
   "name": "python",
   "nbconvert_exporter": "python",
   "pygments_lexer": "ipython3",
   "version": "3.10.8"
  }
 },
 "nbformat": 4,
 "nbformat_minor": 2
}
