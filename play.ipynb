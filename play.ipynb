{
 "cells": [
  {
   "cell_type": "code",
   "execution_count": 1,
   "metadata": {},
   "outputs": [
    {
     "name": "stdout",
     "output_type": "stream",
     "text": [
      "[Taichi] version 1.7.0, llvm 15.0.7, commit 6b563a2a, osx, python 3.10.8\n"
     ]
    },
    {
     "name": "stderr",
     "output_type": "stream",
     "text": [
      "[I 11/17/23 12:27:34.878 683263] [shell.py:_shell_pop_print@23] Graphical python shell detected, using wrapped sys.stdout\n"
     ]
    },
    {
     "ename": "TaichiRuntimeError",
     "evalue": "Cannont create field, maybe you forgot to call `ti.init()` first?",
     "output_type": "error",
     "traceback": [
      "\u001b[0;31m---------------------------------------------------------------------------\u001b[0m",
      "\u001b[0;31mTaichiRuntimeError\u001b[0m                        Traceback (most recent call last)",
      "\u001b[1;32m/Users/aidanbx/CS/EINCASM/play.ipynb Cell 1\u001b[0m line \u001b[0;36m5\n\u001b[1;32m     <a href='vscode-notebook-cell:/Users/aidanbx/CS/EINCASM/play.ipynb#W0sZmlsZQ%3D%3D?line=55'>56</a>\u001b[0m         \u001b[39mself\u001b[39m\u001b[39m.\u001b[39mis_perturbing_biases \u001b[39m=\u001b[39m is_perturbing_biases\n\u001b[1;32m     <a href='vscode-notebook-cell:/Users/aidanbx/CS/EINCASM/play.ipynb#W0sZmlsZQ%3D%3D?line=56'>57</a>\u001b[0m         \u001b[39mself\u001b[39m\u001b[39m.\u001b[39mtest \u001b[39m=\u001b[39m test\n\u001b[0;32m---> <a href='vscode-notebook-cell:/Users/aidanbx/CS/EINCASM/play.ipynb#W0sZmlsZQ%3D%3D?line=58'>59</a>\u001b[0m ein \u001b[39m=\u001b[39m Eincasm(shape\u001b[39m=\u001b[39;49m(\u001b[39m100\u001b[39;49m, \u001b[39m100\u001b[39;49m), torch_device\u001b[39m=\u001b[39;49mtorch\u001b[39m.\u001b[39;49mdevice(\u001b[39m\"\u001b[39;49m\u001b[39mmps\u001b[39;49m\u001b[39m\"\u001b[39;49m), num_com\u001b[39m=\u001b[39;49m\u001b[39m5\u001b[39;49m)\n\u001b[1;32m     <a href='vscode-notebook-cell:/Users/aidanbx/CS/EINCASM/play.ipynb#W0sZmlsZQ%3D%3D?line=59'>60</a>\u001b[0m world \u001b[39m=\u001b[39m ein\u001b[39m.\u001b[39mworld\n\u001b[1;32m     <a href='vscode-notebook-cell:/Users/aidanbx/CS/EINCASM/play.ipynb#W0sZmlsZQ%3D%3D?line=60'>61</a>\u001b[0m chindices \u001b[39m=\u001b[39m world\u001b[39m.\u001b[39mget_inds_tivec(VIS_CHIDS)\n",
      "File \u001b[0;32m~/CS/EINCASM/eincasm_python/eincasm.py:31\u001b[0m, in \u001b[0;36mEincasm.__init__\u001b[0;34m(self, params, shape, torch_device, num_com, flow_kernel)\u001b[0m\n\u001b[1;32m     29\u001b[0m     num_com \u001b[39m=\u001b[39m \u001b[39m16\u001b[39m\n\u001b[1;32m     30\u001b[0m \u001b[39mif\u001b[39;00m flow_kernel \u001b[39mis\u001b[39;00m \u001b[39mNone\u001b[39;00m:\n\u001b[0;32m---> 31\u001b[0m     flow_kernel \u001b[39m=\u001b[39m ti\u001b[39m.\u001b[39;49mVector\u001b[39m.\u001b[39;49mfield(\u001b[39m2\u001b[39;49m, dtype\u001b[39m=\u001b[39;49mti\u001b[39m.\u001b[39;49mi32, shape\u001b[39m=\u001b[39;49m\u001b[39m5\u001b[39;49m)\n\u001b[1;32m     32\u001b[0m     flow_kernel[\u001b[39m0\u001b[39m] \u001b[39m=\u001b[39m [\u001b[39m0\u001b[39m, \u001b[39m0\u001b[39m]  \u001b[39m# ORIGIN\u001b[39;00m\n\u001b[1;32m     33\u001b[0m     flow_kernel[\u001b[39m1\u001b[39m] \u001b[39m=\u001b[39m [\u001b[39m-\u001b[39m\u001b[39m1\u001b[39m, \u001b[39m0\u001b[39m]  \u001b[39m# UP\u001b[39;00m\n",
      "File \u001b[0;32m~/miniconda/envs/cv/lib/python3.10/site-packages/taichi/lang/matrix.py:1121\u001b[0m, in \u001b[0;36mVector.field\u001b[0;34m(cls, n, dtype, *args, **kwargs)\u001b[0m\n\u001b[1;32m   1119\u001b[0m \u001b[39massert\u001b[39;00m ndim \u001b[39m==\u001b[39m \u001b[39m1\u001b[39m\n\u001b[1;32m   1120\u001b[0m kwargs[\u001b[39m\"\u001b[39m\u001b[39mndim\u001b[39m\u001b[39m\"\u001b[39m] \u001b[39m=\u001b[39m \u001b[39m1\u001b[39m\n\u001b[0;32m-> 1121\u001b[0m \u001b[39mreturn\u001b[39;00m \u001b[39msuper\u001b[39;49m()\u001b[39m.\u001b[39;49mfield(n, \u001b[39m1\u001b[39;49m, dtype, \u001b[39m*\u001b[39;49margs, \u001b[39m*\u001b[39;49m\u001b[39m*\u001b[39;49mkwargs)\n",
      "File \u001b[0;32m~/miniconda/envs/cv/lib/python3.10/site-packages/taichi/lang/util.py:334\u001b[0m, in \u001b[0;36mpython_scope.<locals>.wrapped\u001b[0;34m(*args, **kwargs)\u001b[0m\n\u001b[1;32m    331\u001b[0m \u001b[39m@functools\u001b[39m\u001b[39m.\u001b[39mwraps(func)\n\u001b[1;32m    332\u001b[0m \u001b[39mdef\u001b[39;00m \u001b[39mwrapped\u001b[39m(\u001b[39m*\u001b[39margs, \u001b[39m*\u001b[39m\u001b[39m*\u001b[39mkwargs):\n\u001b[1;32m    333\u001b[0m     \u001b[39massert\u001b[39;00m in_python_scope(), \u001b[39mf\u001b[39m\u001b[39m\"\u001b[39m\u001b[39m{\u001b[39;00mfunc\u001b[39m.\u001b[39m\u001b[39m__name__\u001b[39m\u001b[39m}\u001b[39;00m\u001b[39m cannot be called in Taichi-scope\u001b[39m\u001b[39m\"\u001b[39m\n\u001b[0;32m--> 334\u001b[0m     \u001b[39mreturn\u001b[39;00m func(\u001b[39m*\u001b[39;49margs, \u001b[39m*\u001b[39;49m\u001b[39m*\u001b[39;49mkwargs)\n",
      "File \u001b[0;32m~/miniconda/envs/cv/lib/python3.10/site-packages/taichi/lang/matrix.py:883\u001b[0m, in \u001b[0;36mMatrix.field\u001b[0;34m(cls, n, m, dtype, shape, order, name, offset, needs_grad, needs_dual, layout, ndim)\u001b[0m\n\u001b[1;32m    881\u001b[0m \u001b[39melse\u001b[39;00m:\n\u001b[1;32m    882\u001b[0m     \u001b[39mfor\u001b[39;00m _ \u001b[39min\u001b[39;00m \u001b[39mrange\u001b[39m(n \u001b[39m*\u001b[39m m):\n\u001b[0;32m--> 883\u001b[0m         entries\u001b[39m.\u001b[39mappend(impl\u001b[39m.\u001b[39;49mcreate_field_member(dtype, name\u001b[39m=\u001b[39;49mname, needs_grad\u001b[39m=\u001b[39;49mneeds_grad, needs_dual\u001b[39m=\u001b[39;49mneeds_dual))\n\u001b[1;32m    884\u001b[0m entries, entries_grad, entries_dual \u001b[39m=\u001b[39m \u001b[39mzip\u001b[39m(\u001b[39m*\u001b[39mentries)\n\u001b[1;32m    886\u001b[0m entries \u001b[39m=\u001b[39m MatrixField(entries, n, m, element_dim)\n",
      "File \u001b[0;32m~/miniconda/envs/cv/lib/python3.10/site-packages/taichi/lang/util.py:334\u001b[0m, in \u001b[0;36mpython_scope.<locals>.wrapped\u001b[0;34m(*args, **kwargs)\u001b[0m\n\u001b[1;32m    331\u001b[0m \u001b[39m@functools\u001b[39m\u001b[39m.\u001b[39mwraps(func)\n\u001b[1;32m    332\u001b[0m \u001b[39mdef\u001b[39;00m \u001b[39mwrapped\u001b[39m(\u001b[39m*\u001b[39margs, \u001b[39m*\u001b[39m\u001b[39m*\u001b[39mkwargs):\n\u001b[1;32m    333\u001b[0m     \u001b[39massert\u001b[39;00m in_python_scope(), \u001b[39mf\u001b[39m\u001b[39m\"\u001b[39m\u001b[39m{\u001b[39;00mfunc\u001b[39m.\u001b[39m\u001b[39m__name__\u001b[39m\u001b[39m}\u001b[39;00m\u001b[39m cannot be called in Taichi-scope\u001b[39m\u001b[39m\"\u001b[39m\n\u001b[0;32m--> 334\u001b[0m     \u001b[39mreturn\u001b[39;00m func(\u001b[39m*\u001b[39;49margs, \u001b[39m*\u001b[39;49m\u001b[39m*\u001b[39;49mkwargs)\n",
      "File \u001b[0;32m~/miniconda/envs/cv/lib/python3.10/site-packages/taichi/lang/impl.py:663\u001b[0m, in \u001b[0;36mcreate_field_member\u001b[0;34m(dtype, name, needs_grad, needs_dual)\u001b[0m\n\u001b[1;32m    661\u001b[0m prog \u001b[39m=\u001b[39m get_runtime()\u001b[39m.\u001b[39mprog\n\u001b[1;32m    662\u001b[0m \u001b[39mif\u001b[39;00m prog \u001b[39mis\u001b[39;00m \u001b[39mNone\u001b[39;00m:\n\u001b[0;32m--> 663\u001b[0m     \u001b[39mraise\u001b[39;00m TaichiRuntimeError(\u001b[39m\"\u001b[39m\u001b[39mCannont create field, maybe you forgot to call `ti.init()` first?\u001b[39m\u001b[39m\"\u001b[39m)\n\u001b[1;32m    665\u001b[0m x \u001b[39m=\u001b[39m Expr(prog\u001b[39m.\u001b[39mmake_id_expr(\u001b[39m\"\u001b[39m\u001b[39m\"\u001b[39m))\n\u001b[1;32m    666\u001b[0m x\u001b[39m.\u001b[39mdeclaration_tb \u001b[39m=\u001b[39m get_traceback(stacklevel\u001b[39m=\u001b[39m\u001b[39m4\u001b[39m)\n",
      "\u001b[0;31mTaichiRuntimeError\u001b[0m: Cannont create field, maybe you forgot to call `ti.init()` first?"
     ]
    }
   ],
   "source": [
    "import taichi as ti\n",
    "import torch\n",
    "from eincasm_python.eincasm import Eincasm\n",
    "\n",
    "VIS_CHIDS = [('com', 'r'), ('com', 'g'), ('com', 'b')]\n",
    "\n",
    "@ti.dataclass\n",
    "class VisParams:\n",
    "    chindices: ti.types.vector(n=len(VIS_CHIDS), dtype=ti.i32)\n",
    "    chlims: ti.types.matrix(n=len(VIS_CHIDS), m=2, dtype=ti.f32)\n",
    "    scale: ti.i32\n",
    "    brush_radius: ti.i32\n",
    "    chnum_to_paint: ti.i32\n",
    "    chindex_to_paint: ti.i32\n",
    "    val_to_paint: ti.f32\n",
    "    val_to_paint_dt: ti.f32\n",
    "    drawing: ti.i32\n",
    "    mouse_posx: ti.f32\n",
    "    mouse_posy: ti.f32\n",
    "    perturb_strength: ti.f32\n",
    "    is_perturbing_weights: ti.i32\n",
    "    is_perturbing_biases: ti.i32\n",
    "    test: ti.f32\n",
    "\n",
    "    def __init__(self,\n",
    "                 chindices: ti.types.vector(n=len(VIS_CHIDS), dtype=ti.i32),\n",
    "                 chlims: ti.types.matrix(n=len(VIS_CHIDS), m=2, dtype=ti.f32),\n",
    "                 scale: ti.i32,\n",
    "                 chindex_to_paint = None,\n",
    "                 brush_radius = 4,\n",
    "                 chnum_to_paint = 0,\n",
    "                 val_to_paint = 1.5,\n",
    "                 val_to_paint_dt = -1,\n",
    "                 drawing = False,\n",
    "                 mouse_posx = 0.0,\n",
    "                 mouse_posy = 0.0,\n",
    "                 perturb_strength = 0.1,\n",
    "                 is_perturbing_weights = False,\n",
    "                 is_perturbing_biases = False,\n",
    "                 test = -1):\n",
    "        if chindex_to_paint is None:\n",
    "            chindex_to_paint = self.chindices[0]\n",
    "        self.chindices = chindices\n",
    "        self.chlims = chlims\n",
    "        self.scale = scale\n",
    "        self.chindex_to_paint = chindex_to_paint\n",
    "        self.brush_radius = brush_radius\n",
    "        self.chnum_to_paint = chnum_to_paint\n",
    "        self.val_to_paint = val_to_paint\n",
    "        self.val_to_paint_dt = val_to_paint_dt\n",
    "        self.drawing = drawing\n",
    "        self.mouse_posx = mouse_posx\n",
    "        self.mouse_posy = mouse_posy\n",
    "        self.perturb_strength = perturb_strength\n",
    "        self.is_perturbing_weights = is_perturbing_weights\n",
    "        self.is_perturbing_biases = is_perturbing_biases\n",
    "        self.test = test\n",
    "\n",
    "ein = Eincasm(shape=(100, 100), torch_device=torch.device(\"mps\"), num_com=5)\n",
    "world = ein.world\n",
    "chindices = world.get_inds_tivec(VIS_CHIDS)\n",
    "chlims = world.get_lims_timat(VIS_CHIDS)\n",
    "VisParams(chindices=chindices, chlims=chlims, scale=1)"
   ]
  },
  {
   "cell_type": "code",
   "execution_count": 2,
   "metadata": {},
   "outputs": [
    {
     "name": "stderr",
     "output_type": "stream",
     "text": [
      "/Users/aidanbx/CS/EINCASM/src_ti/eincasm.py:36: UserWarning: \u001b[93mWorld: Casting portmap of dtype: torch.int8 to world dtype: torch.float32\u001b[0m\n",
      "  self.world.malloc()\n"
     ]
    }
   ],
   "source": [
    "ein = eincasm(shape=(400,400), torch_device=torch.device('mps'))\n",
    "chids = [('com', 'r'), ('com', 'g'), ('com', 'b')]"
   ]
  },
  {
   "cell_type": "code",
   "execution_count": 19,
   "metadata": {},
   "outputs": [
    {
     "name": "stderr",
     "output_type": "stream",
     "text": [
      "[W 11/14/23 20:12:11.017 12378070] \n",
      "Assign may lose precision: unknown <- i32\n",
      "[W 11/14/23 20:12:11.021 12378070] \n",
      "Assign may lose precision: unknown <- i32\n",
      "[W 11/14/23 20:12:11.023 12378070] \n",
      "Assign may lose precision: unknown <- i32\n"
     ]
    }
   ],
   "source": [
    "inds = ein.world.get_inds_tivec(chids)\n",
    "itype = ti.types.vector(inds.n, dtype=ti.i32)\n",
    "istruct = ti.types.struct(lims=itype)\n",
    "ifield = istruct.field(shape=())\n",
    "ifield[None]['lims'] = inds"
   ]
  },
  {
   "cell_type": "code",
   "execution_count": 28,
   "metadata": {},
   "outputs": [
    {
     "name": "stderr",
     "output_type": "stream",
     "text": [
      "[W 11/14/23 22:04:37.802 12378070] \n",
      "Assign may lose precision: unknown <- i32\n",
      "[W 11/14/23 22:04:37.814 12378070] \n",
      "Assign may lose precision: unknown <- f32\n"
     ]
    },
    {
     "data": {
      "text/plain": [
       "21.0"
      ]
     },
     "execution_count": 28,
     "metadata": {},
     "output_type": "execute_result"
    }
   ],
   "source": [
    "@ti.dataclass\n",
    "class tstc:\n",
    "    a: ti.i32\n",
    "    b: ti.f32\n",
    "    def init(self):\n",
    "        self.a = 10\n",
    "        self.b = 21\n",
    "\n",
    "tfield = tstc.field(shape=())\n",
    "tfield[None] = tstc()\n",
    "tfield[None].init()\n",
    "tfield[None].b"
   ]
  },
  {
   "cell_type": "code",
   "execution_count": 21,
   "metadata": {},
   "outputs": [
    {
     "ename": "ValueError",
     "evalue": "Invalid data type <class 'taichi.lang.matrix.Matrix'>",
     "output_type": "error",
     "traceback": [
      "\u001b[0;31m---------------------------------------------------------------------------\u001b[0m",
      "\u001b[0;31mValueError\u001b[0m                                Traceback (most recent call last)",
      "\u001b[1;32m/Users/aidanbx/CS/EINCASM/play.ipynb Cell 4\u001b[0m line \u001b[0;36m3\n\u001b[1;32m      <a href='vscode-notebook-cell:/Users/aidanbx/CS/EINCASM/play.ipynb#X22sZmlsZQ%3D%3D?line=0'>1</a>\u001b[0m lims \u001b[39m=\u001b[39m ein\u001b[39m.\u001b[39mworld\u001b[39m.\u001b[39mget_lims_timat(chids)\n\u001b[1;32m      <a href='vscode-notebook-cell:/Users/aidanbx/CS/EINCASM/play.ipynb#X22sZmlsZQ%3D%3D?line=1'>2</a>\u001b[0m ltype \u001b[39m=\u001b[39m \u001b[39mtype\u001b[39m(lims)\n\u001b[0;32m----> <a href='vscode-notebook-cell:/Users/aidanbx/CS/EINCASM/play.ipynb#X22sZmlsZQ%3D%3D?line=2'>3</a>\u001b[0m lstruct \u001b[39m=\u001b[39m ti\u001b[39m.\u001b[39;49mtypes\u001b[39m.\u001b[39;49mstruct(lims\u001b[39m=\u001b[39;49mltype)\n\u001b[1;32m      <a href='vscode-notebook-cell:/Users/aidanbx/CS/EINCASM/play.ipynb#X22sZmlsZQ%3D%3D?line=3'>4</a>\u001b[0m lfield \u001b[39m=\u001b[39m lstruct\u001b[39m.\u001b[39mfield(shape\u001b[39m=\u001b[39m())\n\u001b[1;32m      <a href='vscode-notebook-cell:/Users/aidanbx/CS/EINCASM/play.ipynb#X22sZmlsZQ%3D%3D?line=4'>5</a>\u001b[0m lfield[\u001b[39mNone\u001b[39;00m][\u001b[39m'\u001b[39m\u001b[39mlims\u001b[39m\u001b[39m'\u001b[39m] \u001b[39m=\u001b[39m lims\n",
      "File \u001b[0;32m~/miniconda/envs/cv/lib/python3.10/site-packages/taichi/types/compound_types.py:66\u001b[0m, in \u001b[0;36mstruct\u001b[0;34m(**kwargs)\u001b[0m\n\u001b[1;32m     50\u001b[0m \u001b[39mdef\u001b[39;00m \u001b[39mstruct\u001b[39m(\u001b[39m*\u001b[39m\u001b[39m*\u001b[39mkwargs):\n\u001b[1;32m     51\u001b[0m \u001b[39m    \u001b[39m\u001b[39m\"\"\"Creates a struct type with given members.\u001b[39;00m\n\u001b[1;32m     52\u001b[0m \n\u001b[1;32m     53\u001b[0m \u001b[39m    Args:\u001b[39;00m\n\u001b[0;32m   (...)\u001b[0m\n\u001b[1;32m     64\u001b[0m \u001b[39m        >>> s = sphere(center=vec3([0., 0., 0.]), radius=1.0)\u001b[39;00m\n\u001b[1;32m     65\u001b[0m \u001b[39m    \"\"\"\u001b[39;00m\n\u001b[0;32m---> 66\u001b[0m     \u001b[39mreturn\u001b[39;00m taichi\u001b[39m.\u001b[39;49mlang\u001b[39m.\u001b[39;49mstruct\u001b[39m.\u001b[39;49mStructType(\u001b[39m*\u001b[39;49m\u001b[39m*\u001b[39;49mkwargs)\n",
      "File \u001b[0;32m~/miniconda/envs/cv/lib/python3.10/site-packages/taichi/lang/struct.py:614\u001b[0m, in \u001b[0;36mStructType.__init__\u001b[0;34m(self, **kwargs)\u001b[0m\n\u001b[1;32m    612\u001b[0m     elements\u001b[39m.\u001b[39mappend([dtype\u001b[39m.\u001b[39mtensor_type, k])\n\u001b[1;32m    613\u001b[0m \u001b[39melse\u001b[39;00m:\n\u001b[0;32m--> 614\u001b[0m     dtype \u001b[39m=\u001b[39m cook_dtype(dtype)\n\u001b[1;32m    615\u001b[0m     \u001b[39mself\u001b[39m\u001b[39m.\u001b[39mmembers[k] \u001b[39m=\u001b[39m dtype\n\u001b[1;32m    616\u001b[0m     elements\u001b[39m.\u001b[39mappend([dtype, k])\n",
      "File \u001b[0;32m~/miniconda/envs/cv/lib/python3.10/site-packages/taichi/lang/util.py:310\u001b[0m, in \u001b[0;36mcook_dtype\u001b[0;34m(dtype)\u001b[0m\n\u001b[1;32m    308\u001b[0m \u001b[39mif\u001b[39;00m dtype \u001b[39mis\u001b[39;00m \u001b[39mbool\u001b[39m:\n\u001b[1;32m    309\u001b[0m     \u001b[39mreturn\u001b[39;00m u1\n\u001b[0;32m--> 310\u001b[0m \u001b[39mraise\u001b[39;00m \u001b[39mValueError\u001b[39;00m(\u001b[39mf\u001b[39m\u001b[39m\"\u001b[39m\u001b[39mInvalid data type \u001b[39m\u001b[39m{\u001b[39;00mdtype\u001b[39m}\u001b[39;00m\u001b[39m\"\u001b[39m)\n",
      "\u001b[0;31mValueError\u001b[0m: Invalid data type <class 'taichi.lang.matrix.Matrix'>"
     ]
    }
   ],
   "source": [
    "lims = ein.world.get_lims_timat(chids)\n",
    "ltype = ti.types.matrix(lims.n, lims.m, dtype=ti.f32)\n",
    "lstruct = ti.types.struct(lims=ltype)\n",
    "lfield = lstruct.field(shape=())\n",
    "lfield[None]['lims'] = lims"
   ]
  },
  {
   "cell_type": "code",
   "execution_count": 12,
   "metadata": {},
   "outputs": [
    {
     "data": {
      "text/plain": [
       "<taichi.lang.struct.StructType at 0x28a8bb160>"
      ]
     },
     "execution_count": 12,
     "metadata": {},
     "output_type": "execute_result"
    }
   ],
   "source": [
    "ti.types.struct(\n",
    "    flow=ti.types.vector(n=5, dtype=ti.f32),\n",
    "    port=ti.f32,\n",
    "    mine=ti.f32,)"
   ]
  }
 ],
 "metadata": {
  "kernelspec": {
   "display_name": "cv",
   "language": "python",
   "name": "python3"
  },
  "language_info": {
   "codemirror_mode": {
    "name": "ipython",
    "version": 3
   },
   "file_extension": ".py",
   "mimetype": "text/x-python",
   "name": "python",
   "nbconvert_exporter": "python",
   "pygments_lexer": "ipython3",
   "version": "3.10.8"
  }
 },
 "nbformat": 4,
 "nbformat_minor": 2
}
